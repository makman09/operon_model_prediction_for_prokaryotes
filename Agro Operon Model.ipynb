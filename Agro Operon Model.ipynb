{
 "cells": [
  {
   "cell_type": "code",
   "execution_count": 1,
   "metadata": {
    "collapsed": true
   },
   "outputs": [],
   "source": [
    "from collections import defaultdict\n",
    "import pandas as pd\n",
    "import MySQLdb\n",
    "from scipy.stats import gaussian_kde\n",
    "import matplotlib.pyplot as plt\n",
    "import numpy as np\n",
    "\n",
    "'''\n",
    "    We're using the Operon model here built from the e.coli \n",
    "    baceterium's integernic distances to predict operon membership\n",
    "    between genes inside of the agro bacterium genome\n",
    "'''"
   ]
  },
  {
   "cell_type": "code",
   "execution_count": 2,
   "metadata": {},
   "outputs": [],
   "source": [
    "# recreate the operon model\n",
    "pos_ctrl, neg_ctrl = [], []\n",
    "\n",
    "# load the negative and positive controls first\n",
    "with open('data/pos_ctrl.txt') as f:\n",
    "    f = f.read()\n",
    "    pos_ctrl = [int(num) for num in f.strip('\\n').split('\\t')]\n",
    "with open('data/neg_ctrl.txt') as f:\n",
    "    f = f.read()\n",
    "    neg_ctrl = [int(num) for num in f.strip('\\n').split('\\t')]\n",
    "    \n",
    "# generate the log liklihood out of the positive and negative control\n",
    "LL_h1 = gaussian_kde(pos_ctrl)\n",
    "LL_h0 = gaussian_kde(neg_ctrl)\n",
    "\n",
    "# build our model\n",
    "def model(x):\n",
    "    num = LL_h1(x)*0.60\n",
    "    den = LL_h0(x)*0.40 + num\n",
    "    \n",
    "    return (num/den)\n",
    "\n",
    "# the threshld for classifying operon membership is 0.60\n",
    "threshold = 0.60"
   ]
  },
  {
   "cell_type": "code",
   "execution_count": 3,
   "metadata": {
    "collapsed": true
   },
   "outputs": [],
   "source": [
    "# Set up the python binding for MySQL db\n",
    "db = MySQLdb.connect(host='localhost',\n",
    "                     user='root',\n",
    "                     passwd='REDACTED',\n",
    "                     db='REDACTED')\n",
    "curr = db.cursor()"
   ]
  },
  {
   "cell_type": "code",
   "execution_count": 4,
   "metadata": {},
   "outputs": [],
   "source": [
    "# get all the genes from each of the replicons and order them by their left position of their first exons. \n",
    "# Then get the distances between each of the gene.\n",
    "sql = 'SELECT g.gene_id,e.left_position,e.right_position,g.strand FROM genes g INNER JOIN exons e USING(gene_id) INNER JOIN replicons r USING(replicon_id) WHERE replicon_id = XXX ORDER BY e.left_position ASC'\n",
    "\n",
    "predictions = []\n",
    "\n",
    "# the replicoins of the agro bacterium we'll sift through\n",
    "replicons = [2,3,4,5]\n",
    "\n",
    "# iterate by replicion within agro bacterium\n",
    "for replicon in replicons:\n",
    "    # modify the sql statement with the right replicon id\n",
    "    replicon_sql = sql.replace('XXX', str(replicon))\n",
    "\n",
    "    # execute the sql statement\n",
    "    curr.execute(replicon_sql)\n",
    "    result = curr.fetchall()\n",
    "    \n",
    "    # make the results more nicer to access\n",
    "    result = [{'left': left, 'right': right, 'strand': strand, 'gene_id': gene_id} for (gene_id, left, right, strand) in result]\n",
    "    result = sorted(result, key=lambda x: x['left'])\n",
    "    \n",
    "    # get the distance between every pair of two adjacent genes\n",
    "    for i in xrange(len(result)-1): \n",
    "        geneA = result[i]\n",
    "        geneB = result[i+1]\n",
    "        \n",
    "        # make sure they're within the same strand\n",
    "        if geneA['strand'] != geneB['strand']:\n",
    "            continue\n",
    "    \n",
    "        dist = geneB['left'] - geneA['right'] + 1\n",
    "        \n",
    "        pred = 'P' if model(dist)[0] >= threshold else 'N'\n",
    "        \n",
    "        predictions.append({\n",
    "                'gid_1': geneA['gene_id'],\n",
    "                'gid_2': geneB['gene_id'],\n",
    "                'dist': dist,\n",
    "                'strand': geneA['strand'],\n",
    "                'pred': pred,\n",
    "                'replicion_id': replicon\n",
    "            })"
   ]
  },
  {
   "cell_type": "code",
   "execution_count": 5,
   "metadata": {},
   "outputs": [
    {
     "name": "stdout",
     "output_type": "stream",
     "text": [
      "dist\treplicion_id\tpred\tgid_1\tgid_2\tstrand\n",
      "32\t2\tP\t4320\t4321\t1\n",
      "-7\t2\tP\t4321\t4322\t1\n",
      "0\t2\tP\t4322\t4323\t1\n",
      "-7\t2\tP\t4323\t4324\t1\n",
      "100\t2\tN\t4325\t4326\t-1\n",
      "-3\t2\tP\t4327\t4328\t1\n",
      "-3\t2\tP\t4328\t4329\t1\n",
      "-3\t2\tP\t4329\t4330\t1\n",
      "156\t2\tN\t4330\t4331\t1\n",
      "126\t2\tN\t4333\t4334\t1\n"
     ]
    }
   ],
   "source": [
    "# Sample output of Agro Bacterium operon membership prediction\n",
    "# between two genes from the Agro Bacterium genome\n",
    "print '\\t'.join(map(str, [dt[0] for dt in predictions[0].items()]))\n",
    "for prediction in predictions[:10]:\n",
    "    print '\\t'.join(map(str, [dt[1] for dt in prediction.items()]))"
   ]
  }
 ],
 "metadata": {
  "anaconda-cloud": {},
  "kernelspec": {
   "display_name": "Python 3",
   "language": "python",
   "name": "python3"
  },
  "language_info": {
   "codemirror_mode": {
    "name": "ipython",
    "version": 3
   },
   "file_extension": ".py",
   "mimetype": "text/x-python",
   "name": "python",
   "nbconvert_exporter": "python",
   "pygments_lexer": "ipython3",
   "version": "3.6.4"
  }
 },
 "nbformat": 4,
 "nbformat_minor": 1
}
